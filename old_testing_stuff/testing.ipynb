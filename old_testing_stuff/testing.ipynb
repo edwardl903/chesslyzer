import requests

def fetch_player_data(username):
    """Fetch basic player information."""
    url = f"https://api.chess.com/pub/player/{username}"
    response = requests.get(url)
    
    if response.status_code != 200:
        print(f"Error: Received status code {response.status_code}")
        print(f"Response content: {response.text}")
        return None  # or raise an exception
    
    return response.json()

def fetch_player_stats(username):
    """Fetch player statistics."""
    url = f"https://api.chess.com/pub/player/{username}/stats"
    response = requests.get(url)
    return response.json()

def fetch_monthly_games(username, year, month):
    """Fetch games for a specific month and year."""
    url = f"https://api.chess.com/pub/player/{username}/games/{year}/{month:02d}"
    response = requests.get(url)
    return response.json()

def fetch_archived_links(username):
    """Fetch links to all archived game collections."""
    url = f"https://api.chess.com/pub/player/{username}/games/archives"
    response = requests.get(url)
    return response.json()

if __name__ == "__main__":
    username = "EdwardL903"  # Replace with your Chess.com username

    # Fetch and display basic player data
    player_data = fetch_player_data(username)
    print("Player Data:", player_data)

    # Fetch and display player stats
    player_stats = fetch_player_stats(username)
    print("\nPlayer Stats:", player_stats)

    # Fetch and display links to archived games
    archived_links = fetch_archived_links(username)
    print("\nArchived Links:", archived_links)

    # Fetch and display games from a specific month and year
    year = 2024
    month = 12
    monthly_games = fetch_monthly_games(username, year, month)
    print("\nMonthly Games:", monthly_games)