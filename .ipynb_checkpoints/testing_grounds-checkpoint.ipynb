{
 "cells": [
  {
   "cell_type": "code",
   "execution_count": 7,
   "id": "7315f82f-04a1-4fdd-8871-4c3aecf66a17",
   "metadata": {},
   "outputs": [],
   "source": [
    "from data_processing import *\n",
    "from statistics import *\n",
    "from statistics import collect_statistics  # explicitly import the function you're using\n",
    "import time"
   ]
  },
  {
   "cell_type": "code",
   "execution_count": 8,
   "id": "76175aa4-fa15-4f0b-819d-8a5722c33ace",
   "metadata": {},
   "outputs": [
    {
     "name": "stdout",
     "output_type": "stream",
     "text": [
      "Chesslyzer booting...!!!\n"
     ]
    },
    {
     "ename": "NameError",
     "evalue": "name 'collect_statistics' is not defined",
     "output_type": "error",
     "traceback": [
      "\u001b[0;31m---------------------------------------------------------------------------\u001b[0m",
      "\u001b[0;31mNameError\u001b[0m                                 Traceback (most recent call last)",
      "Cell \u001b[0;32mIn[8], line 43\u001b[0m\n\u001b[1;32m     37\u001b[0m \u001b[38;5;250m\u001b[39m\u001b[38;5;124;03m'''if len(sys.argv) > 1:\u001b[39;00m\n\u001b[1;32m     38\u001b[0m \u001b[38;5;124;03m    username = sys.argv[1]  # Get username from command line arguments\u001b[39;00m\n\u001b[1;32m     39\u001b[0m \u001b[38;5;124;03m    main(username)\u001b[39;00m\n\u001b[1;32m     40\u001b[0m \u001b[38;5;124;03melse:\u001b[39;00m\n\u001b[1;32m     41\u001b[0m \u001b[38;5;124;03m    print(\"Usage: python chesslytics.py <username>\")'''\u001b[39;00m\n\u001b[1;32m     42\u001b[0m username \u001b[38;5;241m=\u001b[39m \u001b[38;5;124m\"\u001b[39m\u001b[38;5;124mjoebruin\u001b[39m\u001b[38;5;124m\"\u001b[39m\n\u001b[0;32m---> 43\u001b[0m main(username)\n",
      "Cell \u001b[0;32mIn[8], line 11\u001b[0m, in \u001b[0;36mmain\u001b[0;34m(username)\u001b[0m\n\u001b[1;32m      7\u001b[0m cleaned_df \u001b[38;5;241m=\u001b[39m cleaned_df[cleaned_df[\u001b[38;5;124m'\u001b[39m\u001b[38;5;124mrules\u001b[39m\u001b[38;5;124m'\u001b[39m] \u001b[38;5;241m==\u001b[39m \u001b[38;5;124m'\u001b[39m\u001b[38;5;124mchess\u001b[39m\u001b[38;5;124m'\u001b[39m]\n\u001b[1;32m      9\u001b[0m statistics \u001b[38;5;241m=\u001b[39m total_statistics(cleaned_df)\n\u001b[0;32m---> 11\u001b[0m more_statistics \u001b[38;5;241m=\u001b[39m collect_statistics(cleaned_df)\n\u001b[1;32m     12\u001b[0m \u001b[38;5;28mprint\u001b[39m(more_statistics\u001b[38;5;241m.\u001b[39mkeys())\n\u001b[1;32m     15\u001b[0m flag_statistics \u001b[38;5;241m=\u001b[39m get_flag_statistics(cleaned_df)\n",
      "\u001b[0;31mNameError\u001b[0m: name 'collect_statistics' is not defined"
     ]
    }
   ],
   "source": [
    "def main(username):\n",
    "    print(\"Chesslyzer booting...!!!\")\n",
    "    \n",
    "    start_time = time.time()\n",
    "    df = fetch_and_process_game_data(username)\n",
    "    cleaned_df = clean_dataframe(df, username)\n",
    "    cleaned_df = cleaned_df[cleaned_df['rules'] == 'chess']\n",
    "\n",
    "    statistics = total_statistics(cleaned_df)\n",
    "    \n",
    "    more_statistics = collect_statistics(cleaned_df)\n",
    "    print(more_statistics.keys())\n",
    "\n",
    "\n",
    "    flag_statistics = get_flag_statistics(cleaned_df)\n",
    "\n",
    "    \n",
    "    for stat, value in statistics.items():\n",
    "        print(f\"{stat}: {value}\")\n",
    "    for stat, value in flag_statistics.items():\n",
    "        print(f\"{stat}: {value}\")\n",
    "    for stat, value in more_statistics.items():\n",
    "        print(f\"{stat}: {value}\")\n",
    "\n",
    "    final_df = drop_columns(cleaned_df)\n",
    "    final_df.to_csv(f'csv/{username}.csv', index=False)\n",
    "\n",
    "        \n",
    "    testing_df = final_df.copy()\n",
    "    \n",
    "    end_time = time.time()\n",
    "    duration = end_time - start_time\n",
    "    print(f\"Execution time: {duration:.2f} seconds\")\n",
    "\n",
    "# Boilerplate to run main when executed directly (for testing or debugging)\n",
    "if __name__ == \"__main__\":\n",
    "    '''if len(sys.argv) > 1:\n",
    "        username = sys.argv[1]  # Get username from command line arguments\n",
    "        main(username)\n",
    "    else:\n",
    "        print(\"Usage: python chesslytics.py <username>\")'''\n",
    "    username = \"joebruin\"\n",
    "    main(username)"
   ]
  },
  {
   "cell_type": "code",
   "execution_count": null,
   "id": "3b70bf98-ec3d-480c-8593-ccdf0351b65c",
   "metadata": {},
   "outputs": [],
   "source": []
  }
 ],
 "metadata": {
  "kernelspec": {
   "display_name": "Python 3 (ipykernel)",
   "language": "python",
   "name": "python3"
  },
  "language_info": {
   "codemirror_mode": {
    "name": "ipython",
    "version": 3
   },
   "file_extension": ".py",
   "mimetype": "text/x-python",
   "name": "python",
   "nbconvert_exporter": "python",
   "pygments_lexer": "ipython3",
   "version": "3.11.5"
  }
 },
 "nbformat": 4,
 "nbformat_minor": 5
}
