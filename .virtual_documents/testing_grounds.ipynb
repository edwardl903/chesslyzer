from data_processing import *
from my_stats import *

import time


import time
import sys

pd.set_option('display.max_rows', None)  # No limit on rows
def drop_columns(df):
    if 'pgn' in df.columns:
        df = df.drop(columns=['pgn'])
        print(df.columns)
    return df
    
def main(username):
    print("Chesslyzer booting...!!!")
    
    start_time = time.time()
    df = fetch_and_process_game_data(username)
    cleaned_df = clean_dataframe(df, username)
    cleaned_df = cleaned_df[cleaned_df['rules'] == 'chess']

    statistics = total_statistics(cleaned_df)
    more_statistics = collect_statistics(cleaned_df)
    flag_statistics = get_flag_statistics(cleaned_df)

    stats_df = pd.DataFrame(statistics, index=[0])
    #more_stats_df = pd.DataFrame(more_statistics, index=[0])
    #flag_stats_df = pd.DataFrame(flag_statistics, index=[0])
    
    # Concatenate all dataframes along the columns (axis=1)
    #final_stats_df = pd.concat([stats_df, more_stats_df, flag_stats_df], axis=1)
    #print("Statistics combined into one dataframe:")
    #print(final_stats_df)

    
    for stat, value in statistics.items():
        print(f"{stat}: {value}")
    for stat, value in flag_statistics.items():
        print(f"{stat}: {value}")
    for stat, value in more_statistics.items():
        print(f"{stat}: {value}")

    final_df = drop_columns(cleaned_df)
    final_df.to_csv(f'csv/{username}.csv', index=False)

        
    testing_df = final_df.copy()
    
    end_time = time.time()
    duration = end_time - start_time
    print(f"Execution time: {duration:.2f} seconds")

# Boilerplate to run main when executed directly (for testing or debugging)
if __name__ == "__main__":
    username = "joebruin"
    main(username)



